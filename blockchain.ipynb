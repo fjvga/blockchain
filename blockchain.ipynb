{
 "cells": [
  {
   "cell_type": "markdown",
   "metadata": {},
   "source": [
    "# ブロックチェ－ンを構築しながら学ぶ（Jupyter版）\n",
    "\n",
    "* [ブロックチェ－ンを構築しながら学ぶ | プログラミング | POSTD](http://postd.cc/learn-blockchains-by-building-one/) で公開されていた解説とコードを使って step-by-step で動かしてみるテストです。\n",
    "* Flaskでの実装は本質的でなく冗長であると感じたので、Jupyterで実装してます。\n",
    "* ブロックチェーンのしくみそのものについては、元記事の解説を読んで理解することを前提としています。"
   ]
  },
  {
   "cell_type": "markdown",
   "metadata": {},
   "source": [
    "## コードの実装\n",
    "### まずは Blockchain クラスを作成"
   ]
  },
  {
   "cell_type": "code",
   "execution_count": 1,
   "metadata": {
    "collapsed": true
   },
   "outputs": [],
   "source": [
    "from time import time\n",
    "import hashlib\n",
    "import json\n",
    "\n",
    "class Blockchain(object):\n",
    "    def __init__(self):\n",
    "        self.current_transactions = []\n",
    "        self.chain = []\n",
    "\n",
    "        # Create the genesis block\n",
    "        self.new_block(previous_hash=1, proof=100)\n",
    "\n",
    "    def new_block(self, proof, previous_hash=None):\n",
    "        \"\"\"\n",
    "        Create a new Block in the Blockchain\n",
    "        :param proof: <int> The proof given by the Proof of Work algorithm\n",
    "        :param previous_hash: (Optional) <str> Hash of previous Block\n",
    "        :return: <dict> New Block\n",
    "        \"\"\"\n",
    "        block = {\n",
    "            'index': len(self.chain) + 1,\n",
    "            'timestamp': time(),\n",
    "            'transactions': self.current_transactions,\n",
    "            'proof': proof,\n",
    "            'previous_hash': previous_hash or self.hash(self.chain[-1]),\n",
    "        }\n",
    "\n",
    "        # Reset the current list of transactions\n",
    "        self.current_transactions = []\n",
    "\n",
    "        self.chain.append(block)\n",
    "        return block\n",
    "\n",
    "    def new_transaction(self, sender, recipient, amount):\n",
    "        \"\"\"\n",
    "        Creates a new transaction to go into the next mined Block\n",
    "        :param sender: <str> Address of the Sender\n",
    "        :param recipient: <str> Address of the Recipient\n",
    "        :param amount: <int> Amount\n",
    "        :return: <int> The index of the Block that will hold this transaction\n",
    "        \"\"\"\n",
    "        self.current_transactions.append({\n",
    "            'sender': sender,\n",
    "            'recipient': recipient,\n",
    "            'amount': amount,\n",
    "        })\n",
    "        return self.last_block['index'] + 1\n",
    "\n",
    "    @staticmethod\n",
    "    def hash(block):\n",
    "        \"\"\"\n",
    "        Creates a SHA-256 hash of a Block\n",
    "        :param block: <dict> Block\n",
    "        :return: <str>\n",
    "        \"\"\"\n",
    "        # We must make sure that the Dictionary is Ordered, or we'll have inconsistent hashes\n",
    "        block_string = json.dumps(block, sort_keys=True).encode()\n",
    "        return hashlib.sha256(block_string).hexdigest()\n",
    "\n",
    "    @property\n",
    "    def last_block(self):\n",
    "        return self.chain[-1]\n",
    "\n",
    "    def proof_of_work(self, last_proof):\n",
    "        \"\"\"\n",
    "        Simple Proof of Work Algorithm:\n",
    "         - Find a number p' such that hash(pp') contains leading 4 zeroes, where p is the previous p'\n",
    "         - p is the previous proof, and p' is the new proof\n",
    "        :param last_proof: <int>\n",
    "        :return: <int>\n",
    "        \"\"\"\n",
    "        proof = 0\n",
    "        while self.valid_proof(last_proof, proof) is False:\n",
    "            proof += 1\n",
    "        return proof\n",
    "\n",
    "    @staticmethod\n",
    "    def valid_proof(last_proof, proof):\n",
    "        \"\"\"\n",
    "        Validates the Proof: Does hash(last_proof, proof) contain 4 leading zeroes?\n",
    "        :param last_proof: <int> Previous Proof\n",
    "        :param proof: <int> Current Proof\n",
    "        :return: <bool> True if correct, False if not.\n",
    "        \"\"\"\n",
    "        guess = ('%d%d' % (last_proof, proof)).encode()\n",
    "        guess_hash = hashlib.sha256(guess).hexdigest()\n",
    "        return guess_hash[:4] == \"0000\"\n"
   ]
  },
  {
   "cell_type": "markdown",
   "metadata": {},
   "source": [
    "### 次にマイニングのルーチンを追加"
   ]
  },
  {
   "cell_type": "code",
   "execution_count": 2,
   "metadata": {
    "collapsed": true
   },
   "outputs": [],
   "source": [
    "from uuid import uuid4\n",
    "\n",
    "node_identifier = str(uuid4()).replace('-', '')\n",
    "\n",
    "def mine(blockchain):\n",
    "    global node_identifier\n",
    "    \n",
    "    # We run the proof of work algorithm to get the next proof...\n",
    "    last_block = blockchain.last_block\n",
    "    last_proof = last_block['proof']\n",
    "    proof = blockchain.proof_of_work(last_proof)\n",
    "\n",
    "    # We must receive a reward for finding the proof.\n",
    "    # The sender is \"0\" to signify that this node has mined a new coin.\n",
    "    blockchain.new_transaction(\n",
    "        sender=\"0\",\n",
    "        recipient=node_identifier,\n",
    "        amount=1,\n",
    "    )\n",
    "\n",
    "    # Forge the new Block by adding it to the chain\n",
    "    previous_hash = blockchain.hash(last_block)\n",
    "    block = blockchain.new_block(proof, previous_hash)\n",
    "\n",
    "    response = {\n",
    "        'message': \"New Block Forged\",\n",
    "        'index': block['index'],\n",
    "        'transactions': block['transactions'],\n",
    "        'proof': block['proof'],\n",
    "        'previous_hash': block['previous_hash'],\n",
    "    }\n",
    "    return response"
   ]
  },
  {
   "cell_type": "markdown",
   "metadata": {},
   "source": [
    "### 最後にチェーン全体を取得するルーチンを追加"
   ]
  },
  {
   "cell_type": "code",
   "execution_count": 3,
   "metadata": {
    "collapsed": true
   },
   "outputs": [],
   "source": [
    "def full_chain(blockchain):\n",
    "    response = {\n",
    "        'chain': blockchain.chain,\n",
    "        'length': len(blockchain.chain),\n",
    "    }\n",
    "    return response"
   ]
  },
  {
   "cell_type": "markdown",
   "metadata": {},
   "source": [
    "# ブロックチェーンを動かしてみる\n",
    "\n",
    "表示を見やすくするために pprint を使う。"
   ]
  },
  {
   "cell_type": "code",
   "execution_count": 4,
   "metadata": {
    "collapsed": true
   },
   "outputs": [],
   "source": [
    "import pprint\n",
    "pp = pprint.PrettyPrinter(indent=2)"
   ]
  },
  {
   "cell_type": "markdown",
   "metadata": {},
   "source": [
    "自ノードを示す識別子は以下。"
   ]
  },
  {
   "cell_type": "code",
   "execution_count": 5,
   "metadata": {},
   "outputs": [
    {
     "data": {
      "text/plain": [
       "'33f7be1eacda482b9b45891ce02a8adc'"
      ]
     },
     "execution_count": 5,
     "metadata": {},
     "output_type": "execute_result"
    }
   ],
   "source": [
    "node_identifier"
   ]
  },
  {
   "cell_type": "markdown",
   "metadata": {},
   "source": [
    "インスタンス化すると、最初のブロックが作成される。\n",
    "最初のブロックは\n",
    "* インデックス1\n",
    "* 前のハッシュは無し（1）\n",
    "* チェーンの長さは当然ながら「1」"
   ]
  },
  {
   "cell_type": "code",
   "execution_count": 6,
   "metadata": {},
   "outputs": [
    {
     "name": "stdout",
     "output_type": "stream",
     "text": [
      "{ 'chain': [ { 'index': 1,\n",
      "               'previous_hash': 1,\n",
      "               'proof': 100,\n",
      "               'timestamp': 1514434182.5600014,\n",
      "               'transactions': []}],\n",
      "  'length': 1}\n"
     ]
    }
   ],
   "source": [
    "b = Blockchain()\n",
    "pp.pprint(full_chain(b))"
   ]
  },
  {
   "cell_type": "markdown",
   "metadata": {},
   "source": [
    "ひとつブロックをマイニングしてみる。"
   ]
  },
  {
   "cell_type": "code",
   "execution_count": 7,
   "metadata": {},
   "outputs": [
    {
     "name": "stdout",
     "output_type": "stream",
     "text": [
      "{ 'index': 2,\n",
      "  'message': 'New Block Forged',\n",
      "  'previous_hash': '4b33282ad2523d8f042d2df4d3fa917ac4069724bb273a107deb9c122ff92eec',\n",
      "  'proof': 35293,\n",
      "  'transactions': [ { 'amount': 1,\n",
      "                      'recipient': '33f7be1eacda482b9b45891ce02a8adc',\n",
      "                      'sender': '0'}]}\n"
     ]
    }
   ],
   "source": [
    "newblock = mine(b)\n",
    "pp.pprint(newblock)"
   ]
  },
  {
   "cell_type": "markdown",
   "metadata": {},
   "source": [
    "transactions には、マイニングしたというトランザクションのみが記載されている。\n",
    "マイニングのトランザクションは\n",
    "\n",
    "* sender が 0\n",
    "* recipient が自ノードの識別子\n",
    "* amount が 1\n",
    "\n",
    "のトランザクションとして記録されている。"
   ]
  },
  {
   "cell_type": "markdown",
   "metadata": {},
   "source": [
    "この時のブロックチェーン全体の内容を見てみる。"
   ]
  },
  {
   "cell_type": "code",
   "execution_count": 8,
   "metadata": {},
   "outputs": [
    {
     "name": "stdout",
     "output_type": "stream",
     "text": [
      "{ 'chain': [ { 'index': 1,\n",
      "               'previous_hash': 1,\n",
      "               'proof': 100,\n",
      "               'timestamp': 1514434182.5600014,\n",
      "               'transactions': []},\n",
      "             { 'index': 2,\n",
      "               'previous_hash': '4b33282ad2523d8f042d2df4d3fa917ac4069724bb273a107deb9c122ff92eec',\n",
      "               'proof': 35293,\n",
      "               'timestamp': 1514434182.7299504,\n",
      "               'transactions': [ { 'amount': 1,\n",
      "                                   'recipient': '33f7be1eacda482b9b45891ce02a8adc',\n",
      "                                   'sender': '0'}]}],\n",
      "  'length': 2}\n"
     ]
    }
   ],
   "source": [
    "pp.pprint(full_chain(b))"
   ]
  },
  {
   "cell_type": "markdown",
   "metadata": {},
   "source": [
    "新しい取引（トランザクション）としては、マイニング結果だけを含むブロックが存在している。"
   ]
  },
  {
   "cell_type": "markdown",
   "metadata": {},
   "source": [
    "ここに新しいトランザクションを追加してみる。\n",
    "* sender を 'foo'\n",
    "* recipient を 'bar'\n",
    "* amount を 10\n",
    "\n",
    "のトランザクションとする。"
   ]
  },
  {
   "cell_type": "code",
   "execution_count": 9,
   "metadata": {
    "collapsed": true
   },
   "outputs": [],
   "source": [
    "index = b.new_transaction('foo', 'bar', 10)"
   ]
  },
  {
   "cell_type": "markdown",
   "metadata": {},
   "source": [
    "この時の（ブロックの）インデックスは3になる。このブロックに上記のトランザクションは保存される。"
   ]
  },
  {
   "cell_type": "code",
   "execution_count": 10,
   "metadata": {},
   "outputs": [
    {
     "name": "stdout",
     "output_type": "stream",
     "text": [
      "3\n"
     ]
    }
   ],
   "source": [
    "print(index)"
   ]
  },
  {
   "cell_type": "markdown",
   "metadata": {},
   "source": [
    "この時、チェーン全体を見てみると、上記で追加したトランザクションはまだチェーンに登録されていない。"
   ]
  },
  {
   "cell_type": "code",
   "execution_count": 11,
   "metadata": {
    "scrolled": true
   },
   "outputs": [
    {
     "name": "stdout",
     "output_type": "stream",
     "text": [
      "{ 'chain': [ { 'index': 1,\n",
      "               'previous_hash': 1,\n",
      "               'proof': 100,\n",
      "               'timestamp': 1514434182.5600014,\n",
      "               'transactions': []},\n",
      "             { 'index': 2,\n",
      "               'previous_hash': '4b33282ad2523d8f042d2df4d3fa917ac4069724bb273a107deb9c122ff92eec',\n",
      "               'proof': 35293,\n",
      "               'timestamp': 1514434182.7299504,\n",
      "               'transactions': [ { 'amount': 1,\n",
      "                                   'recipient': '33f7be1eacda482b9b45891ce02a8adc',\n",
      "                                   'sender': '0'}]}],\n",
      "  'length': 2}\n"
     ]
    }
   ],
   "source": [
    "pp.pprint(full_chain(b))"
   ]
  },
  {
   "cell_type": "markdown",
   "metadata": {},
   "source": [
    "マイニングして新しいブロックを追加する。"
   ]
  },
  {
   "cell_type": "code",
   "execution_count": 12,
   "metadata": {
    "collapsed": true
   },
   "outputs": [],
   "source": [
    "newblock = mine(b)"
   ]
  },
  {
   "cell_type": "markdown",
   "metadata": {},
   "source": [
    "3番目のブロックが作成され、先に作成したトランザクションの情報とマイニングの情報が保存される。"
   ]
  },
  {
   "cell_type": "code",
   "execution_count": 13,
   "metadata": {
    "scrolled": true
   },
   "outputs": [
    {
     "name": "stdout",
     "output_type": "stream",
     "text": [
      "{ 'index': 3,\n",
      "  'message': 'New Block Forged',\n",
      "  'previous_hash': 'c812d75ea69333c77c77ee2f251bbf478bd29657c88c1e1f0b3f84667e289222',\n",
      "  'proof': 35089,\n",
      "  'transactions': [ {'amount': 10, 'recipient': 'bar', 'sender': 'foo'},\n",
      "                    { 'amount': 1,\n",
      "                      'recipient': '33f7be1eacda482b9b45891ce02a8adc',\n",
      "                      'sender': '0'}]}\n"
     ]
    }
   ],
   "source": [
    "pp.pprint(newblock)"
   ]
  },
  {
   "cell_type": "markdown",
   "metadata": {},
   "source": [
    "この時のチェーン全体の状態は以下。"
   ]
  },
  {
   "cell_type": "code",
   "execution_count": 14,
   "metadata": {},
   "outputs": [
    {
     "name": "stdout",
     "output_type": "stream",
     "text": [
      "{ 'chain': [ { 'index': 1,\n",
      "               'previous_hash': 1,\n",
      "               'proof': 100,\n",
      "               'timestamp': 1514434182.5600014,\n",
      "               'transactions': []},\n",
      "             { 'index': 2,\n",
      "               'previous_hash': '4b33282ad2523d8f042d2df4d3fa917ac4069724bb273a107deb9c122ff92eec',\n",
      "               'proof': 35293,\n",
      "               'timestamp': 1514434182.7299504,\n",
      "               'transactions': [ { 'amount': 1,\n",
      "                                   'recipient': '33f7be1eacda482b9b45891ce02a8adc',\n",
      "                                   'sender': '0'}]},\n",
      "             { 'index': 3,\n",
      "               'previous_hash': 'c812d75ea69333c77c77ee2f251bbf478bd29657c88c1e1f0b3f84667e289222',\n",
      "               'proof': 35089,\n",
      "               'timestamp': 1514434183.0127025,\n",
      "               'transactions': [ { 'amount': 10,\n",
      "                                   'recipient': 'bar',\n",
      "                                   'sender': 'foo'},\n",
      "                                 { 'amount': 1,\n",
      "                                   'recipient': '33f7be1eacda482b9b45891ce02a8adc',\n",
      "                                   'sender': '0'}]}],\n",
      "  'length': 3}\n"
     ]
    }
   ],
   "source": [
    "pp.pprint(full_chain(b))"
   ]
  },
  {
   "cell_type": "markdown",
   "metadata": {},
   "source": [
    "## 分散合意\n",
    "\n",
    "### Blockchain2 クラスの実装\n",
    "\n",
    "コンセンサスアルゴリズムを組み込んだ Blcokchain2 クラスを実装する。\n",
    "\n",
    "ついでに、ノード識別子をクラスメンバとして保持し、マイニングした時にはそれを使うように修正。（複数のノードのブロックチェーンを扱えるようにするため）\n",
    "\n",
    "（本当は Node クラスを定義して has-a として Blockchain2 クラスをメンバに持った方がいい気がするが、オリジナル版で register_node() とか resolve_conflicts() とかが Blockchain クラスに導入されているので、それを踏襲する。）"
   ]
  },
  {
   "cell_type": "code",
   "execution_count": 15,
   "metadata": {
    "collapsed": true
   },
   "outputs": [],
   "source": [
    "import copy\n",
    "\n",
    "BlockchainNeighbours = {}\n",
    "\n",
    "class Blockchain2(Blockchain):\n",
    "    def __init__(self, node_identifier):\n",
    "        super().__init__()\n",
    "        self.nodes = set()\n",
    "        self.node_identifier = node_identifier\n",
    "        \n",
    "    def register_node(self, node_identifier):\n",
    "        \"\"\"\n",
    "        Add a new node to the list of nodes\n",
    "        :node_identifier: <str> Node identifier of the neighbour node.\n",
    "        :return: None\n",
    "        \"\"\"\n",
    "        self.nodes.add(node_identifier)\n",
    "\n",
    "    def valid_chain(self, chain):\n",
    "        \"\"\"\n",
    "        Determine if a given blockchain is valid\n",
    "        :param chain: <list> A blockchain\n",
    "        :return: <bool> True if valid, False if not\n",
    "        \"\"\"\n",
    "\n",
    "        last_block = chain[0]\n",
    "        current_index = 1\n",
    "\n",
    "        while current_index < len(chain):\n",
    "            block = chain[current_index]\n",
    "#            print(f'{last_block}')\n",
    "#            print(f'{block}')\n",
    "#            print(\"\\n-----------\\n\")\n",
    "            # Check that the hash of the block is correct\n",
    "            if block['previous_hash'] != self.hash(last_block):\n",
    "                return False\n",
    "\n",
    "            # Check that the Proof of Work is correct\n",
    "            if not self.valid_proof(last_block['proof'], block['proof']):\n",
    "                return False\n",
    "\n",
    "            last_block = block\n",
    "            current_index += 1\n",
    "\n",
    "        return True\n",
    "\n",
    "    def resolve_conflicts(self):\n",
    "        \"\"\"\n",
    "        This is our Consensus Algorithm, it resolves conflicts\n",
    "        by replacing our chain with the longest one in the network.\n",
    "        :return: <bool> True if our chain was replaced, False if not\n",
    "        \"\"\"\n",
    "        neighbours = self.nodes\n",
    "        new_chain = None\n",
    "\n",
    "        # We're only looking for chains longer than ours\n",
    "        max_length = len(self.chain)\n",
    "\n",
    "        # Grab and verify the chains from all the nodes in our network\n",
    "        for node in neighbours:\n",
    "            blockchain = BlockchainNeighbours[node]\n",
    "            print('node id: %s, len: %d' % (blockchain.node_identifier, len(blockchain.chain)))\n",
    "\n",
    "            # Check if the length is longer and the chain is valid\n",
    "            if len(blockchain.chain) > max_length and self.valid_chain(blockchain.chain):\n",
    "                max_length = len(blockchain.chain)\n",
    "                new_chain = blockchain\n",
    "\n",
    "        # Replace our chain if we discovered a new, valid chain longer than ours\n",
    "        if new_chain:\n",
    "            print(\"Replacing `%s' <- `%s'\" % (self.node_identifier, new_chain.node_identifier))\n",
    "            self.chain = copy.copy(new_chain.chain)\n",
    "            return True\n",
    "\n",
    "        return False"
   ]
  },
  {
   "cell_type": "code",
   "execution_count": 16,
   "metadata": {
    "collapsed": true
   },
   "outputs": [],
   "source": [
    "def mine2(blockchain):\n",
    "    # We run the proof of work algorithm to get the next proof...\n",
    "    last_block = blockchain.last_block\n",
    "    last_proof = last_block['proof']\n",
    "    proof = blockchain.proof_of_work(last_proof)\n",
    "\n",
    "    # We must receive a reward for finding the proof.\n",
    "    # The sender is \"0\" to signify that this node has mined a new coin.\n",
    "    blockchain.new_transaction(\n",
    "        sender=\"0\",\n",
    "        recipient=blockchain.node_identifier,\n",
    "        amount=1,\n",
    "    )\n",
    "\n",
    "    # Forge the new Block by adding it to the chain\n",
    "    previous_hash = blockchain.hash(last_block)\n",
    "    block = blockchain.new_block(proof, previous_hash)\n",
    "\n",
    "    response = {\n",
    "        'message': \"New Block Forged\",\n",
    "        'index': block['index'],\n",
    "        'transactions': block['transactions'],\n",
    "        'proof': block['proof'],\n",
    "        'previous_hash': block['previous_hash'],\n",
    "    }\n",
    "    return response"
   ]
  },
  {
   "cell_type": "markdown",
   "metadata": {},
   "source": [
    "### 複数ノードのブロックチェーンの作成"
   ]
  },
  {
   "cell_type": "markdown",
   "metadata": {},
   "source": [
    "3ノード分のブロックチェーンを作成して、近隣ノードとして登録する。"
   ]
  },
  {
   "cell_type": "code",
   "execution_count": 17,
   "metadata": {
    "collapsed": true
   },
   "outputs": [],
   "source": [
    "# ノード識別子を 'foo', 'bar', 'buz' として3ノード分のブロックチェーンを作成する。\n",
    "foo = Blockchain2('foo')\n",
    "bar = Blockchain2('bar')\n",
    "buz = Blockchain2('buz')\n",
    "\n",
    "# 近隣ノードの一覧に登録\n",
    "BlockchainNeighbours['foo'] = foo\n",
    "BlockchainNeighbours['bar'] = bar\n",
    "BlockchainNeighbours['buz'] = buz\n",
    "\n",
    "# 'foo' ノードの近隣として 'bar', 'buz' を登録\n",
    "foo.register_node('bar')\n",
    "foo.register_node('buz')\n",
    "\n",
    "# 'bar', 'buz' ノードについても近隣を登録\n",
    "bar.register_node('foo')\n",
    "bar.register_node('buz')\n",
    "\n",
    "buz.register_node('foo')\n",
    "buz.register_node('bar')"
   ]
  },
  {
   "cell_type": "markdown",
   "metadata": {},
   "source": [
    "初期状態だと、すべてのノードのチェーンは長さが1となる。"
   ]
  },
  {
   "cell_type": "code",
   "execution_count": 18,
   "metadata": {
    "scrolled": true
   },
   "outputs": [
    {
     "name": "stdout",
     "output_type": "stream",
     "text": [
      "foo: 1, bar: 1, buz: 1\n"
     ]
    }
   ],
   "source": [
    "print('foo: %d, bar: %d, buz: %d' %(len(foo.chain), len(bar.chain), len(buz.chain)))"
   ]
  },
  {
   "cell_type": "markdown",
   "metadata": {},
   "source": [
    "初期状態でコンフリクトを解消しようとしても、fooノードより長いチェーンを持つノードが存在しないので、fooノードのチェーンは変更されない。"
   ]
  },
  {
   "cell_type": "code",
   "execution_count": 19,
   "metadata": {},
   "outputs": [
    {
     "name": "stdout",
     "output_type": "stream",
     "text": [
      "node id: buz, len: 1\n",
      "node id: bar, len: 1\n"
     ]
    },
    {
     "data": {
      "text/plain": [
       "False"
      ]
     },
     "execution_count": 19,
     "metadata": {},
     "output_type": "execute_result"
    }
   ],
   "source": [
    "foo.resolve_conflicts()"
   ]
  },
  {
   "cell_type": "markdown",
   "metadata": {},
   "source": [
    "### 一部のノードにおけるブロックの伸長"
   ]
  },
  {
   "cell_type": "markdown",
   "metadata": {},
   "source": [
    "次に bar ノードでマイニングし、ブロックを1つ追加する。"
   ]
  },
  {
   "cell_type": "code",
   "execution_count": 20,
   "metadata": {},
   "outputs": [
    {
     "name": "stdout",
     "output_type": "stream",
     "text": [
      "{ 'index': 2,\n",
      "  'message': 'New Block Forged',\n",
      "  'previous_hash': '6d2219c4cfd1bc5c3531f737447bb50327e2474fe67a525abbc288a6c60da977',\n",
      "  'proof': 35293,\n",
      "  'transactions': [{'amount': 1, 'recipient': 'bar', 'sender': '0'}]}\n"
     ]
    }
   ],
   "source": [
    "pp.pprint(mine2(bar))"
   ]
  },
  {
   "cell_type": "markdown",
   "metadata": {},
   "source": [
    "すると、barノードだけ長さが2となる。"
   ]
  },
  {
   "cell_type": "code",
   "execution_count": 21,
   "metadata": {
    "scrolled": true
   },
   "outputs": [
    {
     "name": "stdout",
     "output_type": "stream",
     "text": [
      "foo: 1, bar: 2, buz: 1\n"
     ]
    }
   ],
   "source": [
    "print('foo: %d, bar: %d, buz: %d' %(len(foo.chain), len(bar.chain), len(buz.chain)))"
   ]
  },
  {
   "cell_type": "code",
   "execution_count": 22,
   "metadata": {},
   "outputs": [
    {
     "name": "stdout",
     "output_type": "stream",
     "text": [
      "[ { 'index': 1,\n",
      "    'previous_hash': 1,\n",
      "    'proof': 100,\n",
      "    'timestamp': 1514434183.2797077,\n",
      "    'transactions': []}]\n"
     ]
    }
   ],
   "source": [
    "pp.pprint(foo.chain)"
   ]
  },
  {
   "cell_type": "code",
   "execution_count": 23,
   "metadata": {},
   "outputs": [
    {
     "name": "stdout",
     "output_type": "stream",
     "text": [
      "[ { 'index': 1,\n",
      "    'previous_hash': 1,\n",
      "    'proof': 100,\n",
      "    'timestamp': 1514434183.2797077,\n",
      "    'transactions': []},\n",
      "  { 'index': 2,\n",
      "    'previous_hash': '6d2219c4cfd1bc5c3531f737447bb50327e2474fe67a525abbc288a6c60da977',\n",
      "    'proof': 35293,\n",
      "    'timestamp': 1514434183.493838,\n",
      "    'transactions': [{'amount': 1, 'recipient': 'bar', 'sender': '0'}]}]\n"
     ]
    }
   ],
   "source": [
    "pp.pprint(bar.chain)"
   ]
  },
  {
   "cell_type": "code",
   "execution_count": 24,
   "metadata": {},
   "outputs": [
    {
     "name": "stdout",
     "output_type": "stream",
     "text": [
      "[ { 'index': 1,\n",
      "    'previous_hash': 1,\n",
      "    'proof': 100,\n",
      "    'timestamp': 1514434183.2797077,\n",
      "    'transactions': []}]\n"
     ]
    }
   ],
   "source": [
    "pp.pprint(buz.chain)"
   ]
  },
  {
   "cell_type": "markdown",
   "metadata": {},
   "source": [
    "### ノード間のコンフリクトの解消"
   ]
  },
  {
   "cell_type": "markdown",
   "metadata": {},
   "source": [
    "この状態で foo ノードでコンフリクトを解消しようとすると、fooノードのチェーンは（より長い）barノードのチェーンで上書きされる。"
   ]
  },
  {
   "cell_type": "code",
   "execution_count": 25,
   "metadata": {},
   "outputs": [
    {
     "name": "stdout",
     "output_type": "stream",
     "text": [
      "node id: buz, len: 1\n",
      "node id: bar, len: 2\n",
      "Replacing `foo' <- `bar'\n"
     ]
    },
    {
     "data": {
      "text/plain": [
       "True"
      ]
     },
     "execution_count": 25,
     "metadata": {},
     "output_type": "execute_result"
    }
   ],
   "source": [
    "foo.resolve_conflicts()"
   ]
  },
  {
   "cell_type": "markdown",
   "metadata": {},
   "source": [
    "コンフリクトの解消が完了すると、fooノードのチェーンの長さが2となる。"
   ]
  },
  {
   "cell_type": "code",
   "execution_count": 26,
   "metadata": {},
   "outputs": [
    {
     "name": "stdout",
     "output_type": "stream",
     "text": [
      "foo: 2, bar: 2, buz: 1\n"
     ]
    }
   ],
   "source": [
    "print('foo: %d, bar: %d, buz: %d' %(len(foo.chain), len(bar.chain), len(buz.chain)))"
   ]
  },
  {
   "cell_type": "markdown",
   "metadata": {},
   "source": [
    "### ノードごとにチェーンの内容が異なる場合"
   ]
  },
  {
   "cell_type": "markdown",
   "metadata": {},
   "source": [
    "次に、ノードごとにチェーンの内容が異なるケースを考えてみる。\n",
    "\n",
    "ここでは、fooノードとbuzノードの内容が異なる場合を見る。"
   ]
  },
  {
   "cell_type": "code",
   "execution_count": 27,
   "metadata": {},
   "outputs": [
    {
     "name": "stdout",
     "output_type": "stream",
     "text": [
      "node id: foo, len: 2\n",
      "node id: bar, len: 2\n",
      "Replacing `buz' <- `foo'\n",
      "foo: 2, bar: 2, buz: 2\n"
     ]
    }
   ],
   "source": [
    "# buzノードの内容を揃える\n",
    "buz.resolve_conflicts()\n",
    "print('foo: %d, bar: %d, buz: %d' %(len(foo.chain), len(bar.chain), len(buz.chain)))"
   ]
  },
  {
   "cell_type": "markdown",
   "metadata": {},
   "source": [
    "ここで、fooノードで2ブロック、buzノードで1ブロック、それぞれ異なるトランザクションを保持しているブロックを追加する。"
   ]
  },
  {
   "cell_type": "code",
   "execution_count": 28,
   "metadata": {},
   "outputs": [
    {
     "name": "stdout",
     "output_type": "stream",
     "text": [
      "foo: 4, bar: 2, buz: 3\n"
     ]
    }
   ],
   "source": [
    "foo.new_transaction('AAA', 'BBB', 123)\n",
    "mine2(foo)\n",
    "foo.new_transaction('CCC', 'DDD', 456)\n",
    "mine2(foo)\n",
    "\n",
    "buz.new_transaction('EEE', 'FFF', 789)\n",
    "mine2(buz)\n",
    "\n",
    "print('foo: %d, bar: %d, buz: %d' %(len(foo.chain), len(bar.chain), len(buz.chain)))"
   ]
  },
  {
   "cell_type": "markdown",
   "metadata": {},
   "source": [
    "この時の foo ノードと buz ノードのチェーンの内容は以下の通り。途中から内容が異なっていることが分かる。"
   ]
  },
  {
   "cell_type": "code",
   "execution_count": 29,
   "metadata": {},
   "outputs": [
    {
     "name": "stdout",
     "output_type": "stream",
     "text": [
      "[ { 'index': 1,\n",
      "    'previous_hash': 1,\n",
      "    'proof': 100,\n",
      "    'timestamp': 1514434183.2797077,\n",
      "    'transactions': []},\n",
      "  { 'index': 2,\n",
      "    'previous_hash': '6d2219c4cfd1bc5c3531f737447bb50327e2474fe67a525abbc288a6c60da977',\n",
      "    'proof': 35293,\n",
      "    'timestamp': 1514434183.493838,\n",
      "    'transactions': [{'amount': 1, 'recipient': 'bar', 'sender': '0'}]},\n",
      "  { 'index': 3,\n",
      "    'previous_hash': '954623f55a83006026fbfd26b1bff1992bacc4cdd025db25a5f4adf2f8842725',\n",
      "    'proof': 35089,\n",
      "    'timestamp': 1514434183.8250325,\n",
      "    'transactions': [ {'amount': 123, 'recipient': 'BBB', 'sender': 'AAA'},\n",
      "                      {'amount': 1, 'recipient': 'foo', 'sender': '0'}]},\n",
      "  { 'index': 4,\n",
      "    'previous_hash': 'ea8803b7328c94682b02c9fd539ecfa873d529551413047f8f1e50bb95003dd8',\n",
      "    'proof': 119678,\n",
      "    'timestamp': 1514434184.1612155,\n",
      "    'transactions': [ {'amount': 456, 'recipient': 'DDD', 'sender': 'CCC'},\n",
      "                      {'amount': 1, 'recipient': 'foo', 'sender': '0'}]}]\n"
     ]
    }
   ],
   "source": [
    "pp.pprint(foo.chain)"
   ]
  },
  {
   "cell_type": "code",
   "execution_count": 30,
   "metadata": {},
   "outputs": [
    {
     "name": "stdout",
     "output_type": "stream",
     "text": [
      "[ { 'index': 1,\n",
      "    'previous_hash': 1,\n",
      "    'proof': 100,\n",
      "    'timestamp': 1514434183.2797077,\n",
      "    'transactions': []},\n",
      "  { 'index': 2,\n",
      "    'previous_hash': '6d2219c4cfd1bc5c3531f737447bb50327e2474fe67a525abbc288a6c60da977',\n",
      "    'proof': 35293,\n",
      "    'timestamp': 1514434183.493838,\n",
      "    'transactions': [{'amount': 1, 'recipient': 'bar', 'sender': '0'}]},\n",
      "  { 'index': 3,\n",
      "    'previous_hash': '954623f55a83006026fbfd26b1bff1992bacc4cdd025db25a5f4adf2f8842725',\n",
      "    'proof': 35089,\n",
      "    'timestamp': 1514434184.251345,\n",
      "    'transactions': [ {'amount': 789, 'recipient': 'FFF', 'sender': 'EEE'},\n",
      "                      {'amount': 1, 'recipient': 'buz', 'sender': '0'}]}]\n"
     ]
    }
   ],
   "source": [
    "pp.pprint(buz.chain)"
   ]
  },
  {
   "cell_type": "markdown",
   "metadata": {},
   "source": [
    "この状態で foo ノードでコンフリクトを解消しようとしてもチェーンの内容は変わらない。"
   ]
  },
  {
   "cell_type": "code",
   "execution_count": 31,
   "metadata": {},
   "outputs": [
    {
     "name": "stdout",
     "output_type": "stream",
     "text": [
      "foo: 4, bar: 2, buz: 3\n",
      "node id: buz, len: 3\n",
      "node id: bar, len: 2\n",
      "False\n",
      "foo: 4, bar: 2, buz: 3\n"
     ]
    }
   ],
   "source": [
    "print('foo: %d, bar: %d, buz: %d' %(len(foo.chain), len(bar.chain), len(buz.chain)))\n",
    "print(foo.resolve_conflicts())\n",
    "print('foo: %d, bar: %d, buz: %d' %(len(foo.chain), len(bar.chain), len(buz.chain)))"
   ]
  },
  {
   "cell_type": "markdown",
   "metadata": {},
   "source": [
    "一方で buz ノードでコンフリクトを解消すると、チェーンの内容が書き換わる。"
   ]
  },
  {
   "cell_type": "code",
   "execution_count": 32,
   "metadata": {},
   "outputs": [
    {
     "name": "stdout",
     "output_type": "stream",
     "text": [
      "foo: 4, bar: 2, buz: 3\n",
      "node id: foo, len: 4\n",
      "node id: bar, len: 2\n",
      "Replacing `buz' <- `foo'\n",
      "True\n",
      "foo: 4, bar: 2, buz: 4\n"
     ]
    }
   ],
   "source": [
    "print('foo: %d, bar: %d, buz: %d' %(len(foo.chain), len(bar.chain), len(buz.chain)))\n",
    "print(buz.resolve_conflicts())\n",
    "print('foo: %d, bar: %d, buz: %d' %(len(foo.chain), len(bar.chain), len(buz.chain)))"
   ]
  },
  {
   "cell_type": "markdown",
   "metadata": {},
   "source": [
    "結果的に、buzノードのチェーンは破棄され、fooノードのチェーンで上書きされる。"
   ]
  },
  {
   "cell_type": "code",
   "execution_count": 33,
   "metadata": {},
   "outputs": [
    {
     "name": "stdout",
     "output_type": "stream",
     "text": [
      "[ { 'index': 1,\n",
      "    'previous_hash': 1,\n",
      "    'proof': 100,\n",
      "    'timestamp': 1514434183.2797077,\n",
      "    'transactions': []},\n",
      "  { 'index': 2,\n",
      "    'previous_hash': '6d2219c4cfd1bc5c3531f737447bb50327e2474fe67a525abbc288a6c60da977',\n",
      "    'proof': 35293,\n",
      "    'timestamp': 1514434183.493838,\n",
      "    'transactions': [{'amount': 1, 'recipient': 'bar', 'sender': '0'}]},\n",
      "  { 'index': 3,\n",
      "    'previous_hash': '954623f55a83006026fbfd26b1bff1992bacc4cdd025db25a5f4adf2f8842725',\n",
      "    'proof': 35089,\n",
      "    'timestamp': 1514434183.8250325,\n",
      "    'transactions': [ {'amount': 123, 'recipient': 'BBB', 'sender': 'AAA'},\n",
      "                      {'amount': 1, 'recipient': 'foo', 'sender': '0'}]},\n",
      "  { 'index': 4,\n",
      "    'previous_hash': 'ea8803b7328c94682b02c9fd539ecfa873d529551413047f8f1e50bb95003dd8',\n",
      "    'proof': 119678,\n",
      "    'timestamp': 1514434184.1612155,\n",
      "    'transactions': [ {'amount': 456, 'recipient': 'DDD', 'sender': 'CCC'},\n",
      "                      {'amount': 1, 'recipient': 'foo', 'sender': '0'}]}]\n"
     ]
    }
   ],
   "source": [
    "pp.pprint(foo.chain)"
   ]
  },
  {
   "cell_type": "code",
   "execution_count": 34,
   "metadata": {},
   "outputs": [
    {
     "name": "stdout",
     "output_type": "stream",
     "text": [
      "[ { 'index': 1,\n",
      "    'previous_hash': 1,\n",
      "    'proof': 100,\n",
      "    'timestamp': 1514434183.2797077,\n",
      "    'transactions': []},\n",
      "  { 'index': 2,\n",
      "    'previous_hash': '6d2219c4cfd1bc5c3531f737447bb50327e2474fe67a525abbc288a6c60da977',\n",
      "    'proof': 35293,\n",
      "    'timestamp': 1514434183.493838,\n",
      "    'transactions': [{'amount': 1, 'recipient': 'bar', 'sender': '0'}]},\n",
      "  { 'index': 3,\n",
      "    'previous_hash': '954623f55a83006026fbfd26b1bff1992bacc4cdd025db25a5f4adf2f8842725',\n",
      "    'proof': 35089,\n",
      "    'timestamp': 1514434183.8250325,\n",
      "    'transactions': [ {'amount': 123, 'recipient': 'BBB', 'sender': 'AAA'},\n",
      "                      {'amount': 1, 'recipient': 'foo', 'sender': '0'}]},\n",
      "  { 'index': 4,\n",
      "    'previous_hash': 'ea8803b7328c94682b02c9fd539ecfa873d529551413047f8f1e50bb95003dd8',\n",
      "    'proof': 119678,\n",
      "    'timestamp': 1514434184.1612155,\n",
      "    'transactions': [ {'amount': 456, 'recipient': 'DDD', 'sender': 'CCC'},\n",
      "                      {'amount': 1, 'recipient': 'foo', 'sender': '0'}]}]\n"
     ]
    }
   ],
   "source": [
    "pp.pprint(buz.chain)"
   ]
  },
  {
   "cell_type": "markdown",
   "metadata": {},
   "source": [
    "以上。"
   ]
  },
  {
   "cell_type": "code",
   "execution_count": null,
   "metadata": {
    "collapsed": true
   },
   "outputs": [],
   "source": []
  }
 ],
 "metadata": {
  "kernelspec": {
   "display_name": "Python 3",
   "language": "python",
   "name": "python3"
  },
  "language_info": {
   "codemirror_mode": {
    "name": "ipython",
    "version": 3
   },
   "file_extension": ".py",
   "mimetype": "text/x-python",
   "name": "python",
   "nbconvert_exporter": "python",
   "pygments_lexer": "ipython3",
   "version": "3.6.2"
  }
 },
 "nbformat": 4,
 "nbformat_minor": 2
}
